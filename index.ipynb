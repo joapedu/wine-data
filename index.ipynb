{
 "cells": [
  {
   "attachments": {},
   "cell_type": "markdown",
   "metadata": {},
   "source": [
    "## Probabilidade e Inferência - Análise e Amostra de Dados\n",
    "### João Eduardo Braga"
   ]
  },
  {
   "attachments": {},
   "cell_type": "markdown",
   "metadata": {},
   "source": [
    "### 1.   **Introdução**\n",
    "\n",
    "##### O conjunto de dados Wine é um conjunto de dados clássico disponível no [UCI Machine Learning Repository](https://archive.ics.uci.edu).\n",
    "\n",
    "##### Ele contém informações principalmente químicas e sensoriais de vinhos.\n",
    "\n",
    "#### Informações sobre o conjunto de dados Wine:\n",
    "\n",
    "* Origem: O conjunto de dados Wine foi obtido a partir de uma pesquisa realizada em um laboratório de análise química na Itália.\n",
    "* Descrição: O conjunto de dados contém 178 amostras de vinhos, onde cada amostra é descrita por 13 atributos químicos. Os atributos incluem teor alcoólico, acidez, concentração de compostos fenólicos, intensidade de cor, entre outros. Além disso, cada amostra é rotulada com uma classe, indicando a variedade do vinho (1, 2 ou 3).\n",
    "* Objetivo: O objetivo do conjunto de dados é classificar as amostras de vinho em suas respectivas variedades com base nas informações químicas fornecidas.\n",
    "* Atributos: Os atributos do conjunto de dados Wine são:\n",
    "  * Alcohol: Teor alcoólico do vinho.\n",
    "  * Malic Acid: Ácido málico presente no vinho.\n",
    "  * Ash: Cinzas resultantes da queima.\n",
    "  * Alcalinity of Ash: Alcalinidade das cinzas.\n",
    "  * Magnesium: Quantidade de magnésio presente.\n",
    "  * Total Phenols: Concentração total de compostos fenólicos.\n",
    "  * Flavanoids: Concentração de flavonoides.\n",
    "  * Nonflavanoid Phenols: Concentração de fenóis não flavonoides.\n",
    "  * Proanthocyanins: Concentração de proantocianidinas.\n",
    "  * Color Intensity: Intensidade de cor.\n",
    "  * Hue: Matiz (tom) do vinho.\n",
    "  * OD280/OD315 of Diluted Wines: Razão entre a absorvância de 280 nm e 315 nm.\n",
    "  * Proline: Concentração de proline (aminoácido).\n",
    "  * Classes: O conjunto de dados Wine possui três classes, que representam as três variedades de vinho: 1, 2 e 3.\n",
    "\n",
    "O conjunto de dados Wine é frequentemente utilizado para tarefas de classificação, onde algoritmos de aprendizado de máquina são aplicados para prever a variedade do vinho com base em suas características químicas."
   ]
  },
  {
   "attachments": {},
   "cell_type": "markdown",
   "metadata": {},
   "source": [
    "### 2.  **Análise Descritiva**"
   ]
  },
  {
   "attachments": {},
   "cell_type": "markdown",
   "metadata": {},
   "source": [
    "#### Resumo estatístico dos dados:"
   ]
  },
  {
   "cell_type": "code",
   "execution_count": null,
   "metadata": {},
   "outputs": [],
   "source": [
    "# Importação das bibliotecas necessárias\n",
    "import pandas as pd\n",
    "import seaborn as sns\n",
    "import matplotlib.pyplot as plt\n",
    "import statsmodels.api as sm\n",
    "import numpy as np\n",
    "from scipy import stats\n",
    "from sklearn.ensemble import RandomForestClassifier\n",
    "from sklearn.svm import SVC\n",
    "from sklearn.linear_model import SGDClassifier\n",
    "from sklearn.metrics import confusion_matrix, classification_report\n",
    "from sklearn.preprocessing import StandardScaler, LabelEncoder\n",
    "from sklearn.model_selection import train_test_split, GridSearchCV, cross_val_score"
   ]
  },
  {
   "cell_type": "code",
   "execution_count": null,
   "metadata": {},
   "outputs": [],
   "source": [
    "# Carregar o conjunto de dados Wine do UCI Machine Learning Repository\n",
    "url = \"https://archive.ics.uci.edu/ml/machine-learning-databases/wine/wine.data\"\n",
    "nomes_colunas = ['class', 'alcohol', 'malic_acid', 'ash', 'alcalinity_of_ash', 'magnesium', 'total_phenols', \n",
    "                 'flavanoids', 'nonflavanoid_phenols', 'proanthocyanins', 'color_intensity', 'hue', 'od280/od315_of_diluted_wines', 'proline']\n",
    "dados = pd.read_csv(url, header=None, names=nomes_colunas)\n",
    "\n",
    "# Exibir as primeiras linhas do conjunto de dados\n",
    "dados.head()"
   ]
  },
  {
   "cell_type": "code",
   "execution_count": null,
   "metadata": {},
   "outputs": [],
   "source": [
    "# Resumo estatístico dos atributos\n",
    "dados.describe()"
   ]
  },
  {
   "cell_type": "code",
   "execution_count": null,
   "metadata": {},
   "outputs": [],
   "source": [
    "# Exibir o número de linhas da quantidade de vinhos\n",
    "print(\"Número de linhas:\", len(dados))"
   ]
  },
  {
   "cell_type": "code",
   "execution_count": null,
   "metadata": {},
   "outputs": [],
   "source": [
    "# Contagem de classes\n",
    "dados['class'].value_counts()"
   ]
  },
  {
   "attachments": {},
   "cell_type": "markdown",
   "metadata": {},
   "source": [
    "#### Identificação de valores ausentes ou discrepantes (outliers) nos dados."
   ]
  },
  {
   "cell_type": "code",
   "execution_count": null,
   "metadata": {},
   "outputs": [],
   "source": [
    "# Verificar valores ausentes\n",
    "print(dados.isnull().sum())"
   ]
  },
  {
   "attachments": {},
   "cell_type": "markdown",
   "metadata": {},
   "source": [
    "#### Visualização gráfica dos dados:"
   ]
  },
  {
   "cell_type": "code",
   "execution_count": null,
   "metadata": {},
   "outputs": [],
   "source": [
    "# Gráfico de barras da contagem de classes\n",
    "dados['class'].value_counts().plot(kind='bar')\n",
    "plt.xlabel('Classe')\n",
    "plt.ylabel('Contagem')\n",
    "plt.title('Contagem de Classes no Conjunto de Dados Wine')\n",
    "plt.show()"
   ]
  },
  {
   "cell_type": "code",
   "execution_count": null,
   "metadata": {},
   "outputs": [],
   "source": [
    "# Gráfico de dispersão entre o teor alcoólico e a intensidade de cor\n",
    "plt.figure(figsize=(8, 6))\n",
    "sns.scatterplot(data=dados, x='alcohol', y='color_intensity', hue='class')\n",
    "plt.xlabel('Teor Alcoólico')\n",
    "plt.ylabel('Intensidade de Cor')\n",
    "plt.title('Relação entre Teor Alcoólico e Intensidade de Cor')\n",
    "plt.show()"
   ]
  },
  {
   "cell_type": "code",
   "execution_count": null,
   "metadata": {},
   "outputs": [],
   "source": [
    "# Boxplot dos atributos por classe de vinho\n",
    "plt.figure(figsize=(12, 8))\n",
    "sns.boxplot(x='class', y='alcohol', data=dados)\n",
    "plt.xlabel('Classe de Vinho')\n",
    "plt.ylabel('Teor Alcoólico')\n",
    "plt.title('Distribuição do Teor Alcoólico por Classe de Vinho')\n",
    "plt.show()"
   ]
  },
  {
   "cell_type": "code",
   "execution_count": null,
   "metadata": {},
   "outputs": [],
   "source": [
    "# Matriz de correlação\n",
    "plt.figure(figsize=(10, 8))\n",
    "correlation_matrix = dados.corr()\n",
    "sns.heatmap(correlation_matrix, annot=True, cmap='coolwarm')\n",
    "plt.title('Matriz de Correlação entre os Atributos')\n",
    "plt.show()"
   ]
  },
  {
   "attachments": {},
   "cell_type": "markdown",
   "metadata": {},
   "source": [
    "\n",
    "### 3. **Amostragem**"
   ]
  },
  {
   "attachments": {},
   "cell_type": "markdown",
   "metadata": {},
   "source": [
    "#### Amostra aleatória simples:\n",
    "\n",
    "* Estima quantidades da variável \"classe\" do vinho usando amostras aleatórias simples de tamanhos variáveis e compara essas estimativas com o valor real."
   ]
  },
  {
   "cell_type": "code",
   "execution_count": null,
   "metadata": {},
   "outputs": [],
   "source": [
    "# Definir o tamanho das amostras\n",
    "tamanhos_amostra = [10, 50, 100, 150, 200, 250, 300, 400, 500, 600, 700, 750, 800, 900, 1000]\n",
    "\n",
    "# Calcular a estimativa da média das classes para cada tamanho de amostra\n",
    "estimativas = []\n",
    "for tamanho in tamanhos_amostra:\n",
    "    amostra = dados.sample(n=tamanho)\n",
    "    estimativa_media = amostra['class'].mean()\n",
    "    estimativas.append(estimativa_media)\n",
    "\n",
    "# Calcular o valor real da média da classe\n",
    "valor_real = dados['class'].mean()\n",
    "\n",
    "# Plotar as estimativas e o valor real\n",
    "plt.figure(figsize=(8, 6))\n",
    "plt.plot(tamanhos_amostra, estimativas, marker='o', label='Estimativas')\n",
    "plt.axhline(y=valor_real, color='red', linestyle='--', label='Valor Real')\n",
    "plt.xlabel('Tamanho da Amostra')\n",
    "plt.ylabel('Estimativa da Média da Classe')\n",
    "plt.title('Estimativas da Média da Classe vs Valor Real')\n",
    "plt.legend()\n",
    "plt.show()"
   ]
  },
  {
   "attachments": {},
   "cell_type": "markdown",
   "metadata": {},
   "source": [
    "#### Amostra aleatória sistemática:\n",
    "\n",
    "Estima quantidades da variável \"classe\" do vinho usando amostras aleatórias sistemáticas de tamanhos variáveis e compara essas estimativas com o valor real."
   ]
  },
  {
   "cell_type": "code",
   "execution_count": null,
   "metadata": {},
   "outputs": [],
   "source": [
    "# Definir o tamanho das amostras\n",
    "tamanhos_amostra = [10, 50, 100, 150, 200, 250, 300, 400, 500, 600, 700, 750, 800, 900, 1000]\n",
    "\n",
    "# Calcular a estimativa da média das classes para cada tamanho de amostra\n",
    "estimativas = []\n",
    "for tamanho in tamanhos_amostra:\n",
    "    # Calcular o passo\n",
    "    passo = len(dados) // tamanho\n",
    "    \n",
    "    # Gerar os índices das amostras sistemáticas\n",
    "    indices_amostra = np.arange(0, len(dados), passo)\n",
    "    \n",
    "    # Obter as amostras sistemáticas\n",
    "    amostra = dados.loc[indices_amostra]\n",
    "    \n",
    "    estimativa_media = amostra['class'].mean()\n",
    "    estimativas.append(estimativa_media)\n",
    "\n",
    "# Calcular o valor real da média da classe\n",
    "valor_real = dados['class'].mean()\n",
    "\n",
    "# Plotar as estimativas e o valor real\n",
    "plt.figure(figsize=(8, 6))\n",
    "plt.plot(tamanhos_amostra, estimativas, marker='o', label='Estimativas')\n",
    "plt.axhline(y=valor_real, color='red', linestyle='--', label='Valor Real')\n",
    "plt.xlabel('Tamanho da Amostra')\n",
    "plt.ylabel('Estimativa da Média da Classe')\n",
    "plt.title('Estimativas da Média da Classe vs Valor Real')\n",
    "plt.legend()\n",
    "plt.show()\n"
   ]
  },
  {
   "attachments": {},
   "cell_type": "markdown",
   "metadata": {},
   "source": [
    "\n",
    "### 4.  **Estimação**"
   ]
  },
  {
   "cell_type": "code",
   "execution_count": null,
   "metadata": {},
   "outputs": [],
   "source": [
    "# Estimativas pontuais\n",
    "mean_alcohol = np.mean(dados['alcohol'])\n",
    "proportion_class_1 = len(dados[dados['class'] == 1]) / len(dados)"
   ]
  },
  {
   "cell_type": "code",
   "execution_count": null,
   "metadata": {},
   "outputs": [],
   "source": [
    "# Intervalos de confiança\n",
    "confidence_interval_mean = stats.t.interval(0.95, len(dados)-1, loc=mean_alcohol, scale=stats.sem(dados['alcohol']))\n",
    "confidence_interval_proportion = stats.proportion_confint(len(dados[dados['class'] == 1]), len(dados))"
   ]
  },
  {
   "cell_type": "code",
   "execution_count": null,
   "metadata": {},
   "outputs": [],
   "source": [
    "# Interpretação dos resultados\n",
    "print('Intervalo de confiança para a média de alcohol:', confidence_interval_mean)\n",
    "print('Intervalo de confiança para a proporção da classe 1:', confidence_interval_proportion)"
   ]
  },
  {
   "cell_type": "code",
   "execution_count": null,
   "metadata": {},
   "outputs": [],
   "source": [
    "# Resumo estatístico\n",
    "print(dados.describe())"
   ]
  },
  {
   "attachments": {},
   "cell_type": "markdown",
   "metadata": {},
   "source": [
    "### 5. **Modelagem dos dados**\n",
    "\n",
    "\n",
    "* Vamos considerar a tarefa de prever a classe do vinho com base em seus atributos. \n",
    "* Vamos utilizar a regressão linear como modelo para essa análise. "
   ]
  },
  {
   "cell_type": "code",
   "execution_count": null,
   "metadata": {},
   "outputs": [],
   "source": [
    "# Selecionar os atributos para a modelagem\n",
    "atributos = ['alcohol', 'malic_acid', 'ash', 'alcalinity_of_ash', 'magnesium', 'total_phenols', \n",
    "                 'flavanoids', 'nonflavanoid_phenols', 'proanthocyanins', 'color_intensity', 'hue', 'od280/od315_of_diluted_wines', 'proline']\n",
    "\n",
    "# Adicionar a coluna de interceptação\n",
    "dados['intercept'] = 1\n",
    "\n",
    "# Definir as variáveis dependentes e independentes\n",
    "X = dados[atributos]\n",
    "y = dados['class']\n",
    "\n",
    "# Ajustar o modelo de regressão linear usando statsmodels\n",
    "modelo = sm.OLS(y, X)\n",
    "resultado = modelo.fit()\n",
    "\n",
    "# Imprimir um resumo dos resultados\n",
    "print(resultado.summary())\n",
    "\n",
    "# Calcular o R2\n",
    "r2 = resultado.rsquared\n",
    "print(\"R2:\", r2)\n",
    "\n",
    "# Análise de resíduos\n",
    "residuos = resultado.resid\n",
    "plt.figure(figsize=(8, 6))\n",
    "sns.scatterplot(x=resultado.fittedvalues, y=residuos)\n",
    "plt.xlabel('Valores ajustados')\n",
    "plt.ylabel('Resíduos')\n",
    "plt.title('Análise de Resíduos')\n",
    "plt.show()\n"
   ]
  },
  {
   "attachments": {},
   "cell_type": "markdown",
   "metadata": {},
   "source": [
    "### 6.  **Conclusão**"
   ]
  },
  {
   "attachments": {},
   "cell_type": "markdown",
   "metadata": {},
   "source": [
    "#### Resultados Obtidos:\n",
    "* Em síntese, foram obtidos em sua maioria relações de cor e alcalinidade com menor teor alcólico e mais acidez conforme maior teor.\n",
    "* Conforme a classe do vinho aumenta de 1-3 ele aparenta ter uma absorvência e concentração de flavonoides maiores.\n",
    "* Aminoácidos parecem estar presente conforme a alcalinidade é crescente no vinho."
   ]
  },
  {
   "attachments": {},
   "cell_type": "markdown",
   "metadata": {},
   "source": [
    "#### Possíveis limitações\n",
    "* Não foi encontrado nenhuma incongruência no conjunto de dados.\n",
    "* Não aprensentam tantos dados sensoriais, em sua maioria trata apenas de dados quimicos."
   ]
  },
  {
   "attachments": {},
   "cell_type": "markdown",
   "metadata": {},
   "source": [
    "#### Sugestões gerais\n",
    "* Pesquisas em relação ao tratamento do teor alcoólico em detrimento a acidez do produto, para possibilitar bebidas com predominância alcalina mesmo que alcoólica."
   ]
  },
  {
   "attachments": {},
   "cell_type": "markdown",
   "metadata": {},
   "source": [
    "#### Sugestões para os dados\n",
    "* O caso pode ser alimentar o conjunto de dados com conteúdos e colunas que tenham foco no sensorial em relação ao temporal, como por exemplo, quanto maior o tempo, a acidez muda, ou então o gosto em si e a recepção pelas papilas gustativas a partir de pesquisas."
   ]
  }
 ],
 "metadata": {
  "kernelspec": {
   "display_name": "Python 3",
   "language": "python",
   "name": "python3"
  },
  "language_info": {
   "codemirror_mode": {
    "name": "ipython",
    "version": 3
   },
   "file_extension": ".py",
   "mimetype": "text/x-python",
   "name": "python",
   "nbconvert_exporter": "python",
   "pygments_lexer": "ipython3",
   "version": "3.11.4"
  },
  "orig_nbformat": 4
 },
 "nbformat": 4,
 "nbformat_minor": 2
}
