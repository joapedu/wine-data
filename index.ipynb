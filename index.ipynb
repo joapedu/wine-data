{
 "cells": [
  {
   "attachments": {},
   "cell_type": "markdown",
   "metadata": {},
   "source": [
    "## **Probabilidade e Inferência - Análise e Amostra de Dados**\n",
    "### *João Eduardo Braga*\n",
    "### *Arthur Ferreira de Holanda*"
   ]
  },
  {
   "attachments": {},
   "cell_type": "markdown",
   "metadata": {},
   "source": [
    "## Etapa 1 - Análise Geral"
   ]
  },
  {
   "attachments": {},
   "cell_type": "markdown",
   "metadata": {},
   "source": [
    "### 1.   **Introdução**\n"
   ]
  },
  {
   "attachments": {},
   "cell_type": "markdown",
   "metadata": {},
   "source": [
    "##### O conjunto de dados Wine é um conjunto de dados clássico disponível no [UCI Machine Learning Repository](https://archive.ics.uci.edu).\n",
    "\n",
    "##### Ele contém informações principalmente químicas e sensoriais de vinhos."
   ]
  },
  {
   "attachments": {},
   "cell_type": "markdown",
   "metadata": {},
   "source": [
    "#### Informações sobre o conjunto de dados Wine:\n",
    "\n",
    "* Origem: O conjunto de dados Wine foi obtido a partir de uma pesquisa realizada em um laboratório de análise química na Itália.\n",
    "* Descrição: O conjunto de dados contém 178 amostras de vinhos, onde cada amostra é descrita por 13 atributos químicos. Os atributos incluem teor alcoólico, acidez, concentração de compostos fenólicos, intensidade de cor, entre outros. Além disso, cada amostra é rotulada com uma classe, indicando a variedade do vinho (1, 2 ou 3).\n",
    "* Objetivo: O objetivo do conjunto de dados é classificar as amostras de vinho em suas respectivas variedades com base nas informações químicas fornecidas.\n",
    "* Atributos: Os atributos do conjunto de dados Wine são:\n",
    "  * Alcohol: Teor alcoólico do vinho.\n",
    "  * Malic Acid: Ácido málico presente no vinho.\n",
    "  * Ash: Cinzas resultantes da queima.\n",
    "  * Alcalinity of Ash: Alcalinidade das cinzas.\n",
    "  * Magnesium: Quantidade de magnésio presente.\n",
    "  * Total Phenols: Concentração total de compostos fenólicos.\n",
    "  * Flavanoids: Concentração de flavonoides.\n",
    "  * Nonflavanoid Phenols: Concentração de fenóis não flavonoides.\n",
    "  * Proanthocyanins: Concentração de proantocianidinas.\n",
    "  * Color Intensity: Intensidade de cor.\n",
    "  * Hue: Matiz (tom) do vinho.\n",
    "  * OD280/OD315 of Diluted Wines: Razão entre a absorvância de 280 nm e 315 nm.\n",
    "  * Proline: Concentração de proline (aminoácido).\n",
    "  * Classes: O conjunto de dados Wine possui três classes, que representam as três variedades de vinho: 1, 2 e 3.\n",
    "\n",
    "O conjunto de dados Wine é frequentemente utilizado para tarefas de classificação, onde algoritmos de aprendizado de máquina são aplicados para prever a variedade do vinho com base em suas características químicas."
   ]
  },
  {
   "attachments": {},
   "cell_type": "markdown",
   "metadata": {},
   "source": [
    "####  *Adições Unidade 3*:\n",
    "-  **Nessa unidade, em cada etapa houve uma melhora nos dados anteriormente apresentados e foram acrescentadas as seguintes análises:**\n",
    "\n",
    "   - **Etapa 2: Histograma para cada atributo**: Foi plotado histograma para o atributo \"alcohol\", a fim de visualizar a distribuição dos valores presentes. No intuito de ajudar a identificar a assimetria nos dados e entender melhor sua distribuição, podendo ser feito em qualquer atributo presente no conjunto de dados.\n",
    "   \n",
    "   - **Etapa 3: Amostragem estratificada**: Além da amostra aleatória simples e amostra aleatória sistemática já realizada, foi adicionado a amostragem estratificada. Essa técnica garante que as amostras sejam selecionadas proporcionalmente em relação às diferentes classes de vinho (variáveis de resposta). Isso pode ajudar a garantir que todas as classes sejam representadas de forma adequada na amostra.\n",
    "\n",
    "   - **Etapa 4: Intervalo de confiança para a média de um atributo**: É possível calcular intervalos de confiança para a média de cada atributo do conjunto de dados. Isso fornecerá uma estimativa da faixa em que a média verdadeira do atributo pode estar com um certo nível de confiança.\n",
    "\n",
    "   - **Etapa 5: Validação cruzada**: Além de ajustar o modelo de regressão linear usando statsmodels, é possível realizar validação cruzada para avaliar o desempenho do modelo. Isso envolve dividir o conjunto de dados em várias partes (folds), treinar e avaliar o modelo em diferentes combinações dessas partes. Isso fornecerá uma estimativa mais robusta do desempenho do modelo.\n",
    "\n",
    "   - **Etapa 7: Avaliação da qualidade do agrupamento**: Além de plotar os clusters e as médias dos atributos por cluster, é possível avaliar a qualidade do agrupamento usando métricas como o índice de silhueta. Isso ajudará a determinar quão bem os dados foram agrupados e se os clusters são distintos e bem separados. "
   ]
  },
  {
   "attachments": {},
   "cell_type": "markdown",
   "metadata": {},
   "source": [
    "### 2.  **Análise Descritiva**"
   ]
  },
  {
   "attachments": {},
   "cell_type": "markdown",
   "metadata": {},
   "source": [
    "#### Resumo estatístico dos dados:"
   ]
  },
  {
   "cell_type": "code",
   "execution_count": null,
   "metadata": {},
   "outputs": [],
   "source": [
    "# Importação das bibliotecas necessárias\n",
    "import pandas as pd\n",
    "import seaborn as sns\n",
    "import matplotlib.pyplot as plt\n",
    "import statsmodels.api as sm\n",
    "import numpy as np\n",
    "from scipy import stats\n",
    "from sklearn.ensemble import RandomForestClassifier\n",
    "from sklearn.svm import SVC\n",
    "from sklearn.linear_model import SGDClassifier\n",
    "from sklearn.metrics import confusion_matrix, classification_report\n",
    "from sklearn.preprocessing import StandardScaler, LabelEncoder\n",
    "from sklearn.model_selection import train_test_split, GridSearchCV, cross_val_score"
   ]
  },
  {
   "cell_type": "code",
   "execution_count": null,
   "metadata": {},
   "outputs": [],
   "source": [
    "# Carregar o conjunto de dados Wine do UCI Machine Learning Repository\n",
    "url = \"https://archive.ics.uci.edu/ml/machine-learning-databases/wine/wine.data\"\n",
    "nomes_colunas = ['class', 'alcohol', 'malic_acid', 'ash', 'alcalinity_of_ash', 'magnesium', 'total_phenols', \n",
    "                 'flavanoids', 'nonflavanoid_phenols', 'proanthocyanins', 'color_intensity', 'hue', 'od280/od315_of_diluted_wines', 'proline']\n",
    "dados = pd.read_csv(url, header=None, names=nomes_colunas)\n",
    "\n",
    "# Exibir as primeiras linhas do conjunto de dados\n",
    "dados.head()"
   ]
  },
  {
   "cell_type": "code",
   "execution_count": null,
   "metadata": {},
   "outputs": [],
   "source": [
    "# Resumo estatístico dos atributos\n",
    "dados.describe()"
   ]
  },
  {
   "cell_type": "code",
   "execution_count": null,
   "metadata": {},
   "outputs": [],
   "source": [
    "# Exibir o número de linhas da quantidade de vinhos\n",
    "print(\"Número de linhas:\", len(dados))"
   ]
  },
  {
   "cell_type": "code",
   "execution_count": null,
   "metadata": {},
   "outputs": [],
   "source": [
    "# Contagem de classes\n",
    "dados['class'].value_counts()"
   ]
  },
  {
   "attachments": {},
   "cell_type": "markdown",
   "metadata": {},
   "source": [
    "#### Identificação de valores ausentes ou discrepantes (outliers) nos dados."
   ]
  },
  {
   "cell_type": "code",
   "execution_count": null,
   "metadata": {},
   "outputs": [],
   "source": [
    "# Verificar valores ausentes\n",
    "print(dados.isnull().sum())"
   ]
  },
  {
   "attachments": {},
   "cell_type": "markdown",
   "metadata": {},
   "source": [
    "#### Visualização gráfica dos dados:"
   ]
  },
  {
   "cell_type": "code",
   "execution_count": null,
   "metadata": {},
   "outputs": [],
   "source": [
    "# Gráfico de barras da contagem de classes\n",
    "dados['class'].value_counts().plot(kind='bar')\n",
    "plt.xlabel('Classe')\n",
    "plt.ylabel('Contagem')\n",
    "plt.title('Contagem de Classes no Conjunto de Dados Wine')\n",
    "plt.show()"
   ]
  },
  {
   "cell_type": "code",
   "execution_count": null,
   "metadata": {},
   "outputs": [],
   "source": [
    "# Adição Unidade 3\n",
    "# Histograma do atributo \"alcohol\" por classe de vinho\n",
    "plt.figure(figsize=(10, 6))\n",
    "for class_label in range(1, 4):\n",
    "    plt.hist(dados[dados['class'] == class_label]['alcohol'], bins=10, alpha=0.5, label=f'Class {class_label}')\n",
    "plt.xlabel('Alcohol')\n",
    "plt.ylabel('Frequência')\n",
    "plt.title('Histograma do Atributo Alcohol por Classe de Vinho')\n",
    "plt.legend()\n",
    "plt.show()"
   ]
  },
  {
   "cell_type": "code",
   "execution_count": null,
   "metadata": {},
   "outputs": [],
   "source": [
    "# Gráfico de dispersão entre o teor alcoólico e a intensidade de cor\n",
    "plt.figure(figsize=(8, 6))\n",
    "sns.scatterplot(data=dados, x='alcohol', y='color_intensity', hue='class')\n",
    "plt.xlabel('Teor Alcoólico')\n",
    "plt.ylabel('Intensidade de Cor')\n",
    "plt.title('Relação entre Teor Alcoólico e Intensidade de Cor')\n",
    "plt.show()"
   ]
  },
  {
   "cell_type": "code",
   "execution_count": null,
   "metadata": {},
   "outputs": [],
   "source": [
    "# Adição Unidade 3\n",
    "# Gráfico de dispersão entre o atributo \"flavanoids\" e \"color_intensity\" por classe de vinho\n",
    "plt.figure(figsize=(10, 6))\n",
    "for class_label in range(1, 4):\n",
    "    class_data = dados[dados['class'] == class_label]\n",
    "    plt.scatter(class_data['flavanoids'], class_data['color_intensity'], label=f'Class {class_label}')\n",
    "plt.xlabel('Flavanoids')\n",
    "plt.ylabel('Color Intensity')\n",
    "plt.title('Gráfico de Dispersão entre Flavanoids e Color Intensity por Classe de Vinho')\n",
    "plt.legend()\n",
    "plt.show()"
   ]
  },
  {
   "cell_type": "code",
   "execution_count": null,
   "metadata": {},
   "outputs": [],
   "source": [
    "# Boxplot dos atributos por classe de vinho\n",
    "plt.figure(figsize=(12, 8))\n",
    "sns.boxplot(x='class', y='alcohol', data=dados)\n",
    "plt.xlabel('Classe de Vinho')\n",
    "plt.ylabel('Teor Alcoólico')\n",
    "plt.title('Distribuição do Teor Alcoólico por Classe de Vinho')\n",
    "plt.show()"
   ]
  },
  {
   "cell_type": "code",
   "execution_count": null,
   "metadata": {},
   "outputs": [],
   "source": [
    "# Matriz de correlação\n",
    "plt.figure(figsize=(10, 8))\n",
    "correlation_matrix = dados.corr()\n",
    "sns.heatmap(correlation_matrix, annot=True, cmap='coolwarm')\n",
    "plt.title('Matriz de Correlação entre os Atributos')\n",
    "plt.show()"
   ]
  },
  {
   "attachments": {},
   "cell_type": "markdown",
   "metadata": {},
   "source": [
    "\n",
    "### 3. **Amostragem**"
   ]
  },
  {
   "attachments": {},
   "cell_type": "markdown",
   "metadata": {},
   "source": [
    "#### Amostra aleatória simples:\n",
    "\n",
    "* Estima quantidades da variável \"classe\" do vinho usando amostras aleatórias simples de tamanhos variáveis e compara essas estimativas com o valor real."
   ]
  },
  {
   "cell_type": "code",
   "execution_count": null,
   "metadata": {},
   "outputs": [],
   "source": [
    "# Definir o tamanho das amostras\n",
    "tamanhos_amostra = [10, 50, 100, 150, 200, 250, 300, 400, 500, 600, 700, 750, 800, 900, 1000]\n",
    "\n",
    "# Calcular a estimativa da média das classes para cada tamanho de amostra\n",
    "estimativas = []\n",
    "for tamanho in tamanhos_amostra:\n",
    "    amostra = dados.sample(n=tamanho)\n",
    "    estimativa_media = amostra['class'].mean()\n",
    "    estimativas.append(estimativa_media)\n",
    "\n",
    "# Calcular o valor real da média da classe\n",
    "valor_real = dados['class'].mean()\n",
    "\n",
    "# Plotar as estimativas e o valor real\n",
    "plt.figure(figsize=(8, 6))\n",
    "plt.plot(tamanhos_amostra, estimativas, marker='o', label='Estimativas')\n",
    "plt.axhline(y=valor_real, color='red', linestyle='--', label='Valor Real')\n",
    "plt.xlabel('Tamanho da Amostra')\n",
    "plt.ylabel('Estimativa da Média da Classe')\n",
    "plt.title('Estimativas da Média da Classe vs Valor Real')\n",
    "plt.legend()\n",
    "plt.show()"
   ]
  },
  {
   "attachments": {},
   "cell_type": "markdown",
   "metadata": {},
   "source": [
    "#### Amostra aleatória sistemática:\n",
    "\n",
    "Estima quantidades da variável \"classe\" do vinho usando amostras aleatórias sistemáticas de tamanhos variáveis e compara essas estimativas com o valor real."
   ]
  },
  {
   "cell_type": "code",
   "execution_count": null,
   "metadata": {},
   "outputs": [],
   "source": [
    "# Definir o tamanho das amostras\n",
    "tamanhos_amostra = [10, 50, 100, 150, 200, 250, 300, 400, 500, 600, 700, 750, 800, 900, 1000]\n",
    "\n",
    "# Calcular a estimativa da média das classes para cada tamanho de amostra\n",
    "estimativas = []\n",
    "for tamanho in tamanhos_amostra:\n",
    "    # Calcular o passo\n",
    "    passo = len(dados) // tamanho\n",
    "    \n",
    "    # Gerar os índices das amostras sistemáticas\n",
    "    indices_amostra = np.arange(0, len(dados), passo)\n",
    "    \n",
    "    # Obter as amostras sistemáticas\n",
    "    amostra = dados.loc[indices_amostra]\n",
    "    \n",
    "    estimativa_media = amostra['class'].mean()\n",
    "    estimativas.append(estimativa_media)\n",
    "\n",
    "# Calcular o valor real da média da classe\n",
    "valor_real = dados['class'].mean()\n",
    "\n",
    "# Plotar as estimativas e o valor real\n",
    "plt.figure(figsize=(8, 6))\n",
    "plt.plot(tamanhos_amostra, estimativas, marker='o', label='Estimativas')\n",
    "plt.axhline(y=valor_real, color='red', linestyle='--', label='Valor Real')\n",
    "plt.xlabel('Tamanho da Amostra')\n",
    "plt.ylabel('Estimativa da Média da Classe')\n",
    "plt.title('Estimativas da Média da Classe vs Valor Real')\n",
    "plt.legend()\n",
    "plt.show()\n"
   ]
  },
  {
   "attachments": {},
   "cell_type": "markdown",
   "metadata": {},
   "source": [
    "#### Amostragem Estratificada:\n",
    "\n",
    "Nesta etapa, é adicionado uma análise utilizando o método de amostragem estratificada, que é uma forma de amostragem que mantém a proporção das classes no conjunto de dados original."
   ]
  },
  {
   "cell_type": "code",
   "execution_count": null,
   "metadata": {},
   "outputs": [],
   "source": [
    "# Adição Unidade 3\n",
    "# Realizar amostragem estratificada\n",
    "amostra_estratificada = dados.groupby('class', group_keys=False).apply(lambda x: x.sample(n=50))\n",
    "\n",
    "# Exibir as primeiras linhas da amostra estratificada\n",
    "amostra_estratificada.head()"
   ]
  },
  {
   "attachments": {},
   "cell_type": "markdown",
   "metadata": {},
   "source": [
    "\n",
    "### 4.  **Estimação**"
   ]
  },
  {
   "cell_type": "code",
   "execution_count": null,
   "metadata": {},
   "outputs": [],
   "source": [
    "# Adição Unidade 3\n",
    "# Calcular a média do atributo \"alcohol\" por classe de vinho\n",
    "media_por_classe = dados.groupby('class')['alcohol'].mean()\n",
    "\n",
    "# Calcular o desvio padrão do atributo \"alcohol\" por classe de vinho\n",
    "desvio_padrao_por_classe = dados.groupby('class')['alcohol'].std()\n",
    "\n",
    "# Exibir as médias e desvios padrão por classe\n",
    "for class_label in range(1, 4):\n",
    "    print(f'Classe {class_label}:')\n",
    "    print(f'Média: {media_por_classe[class_label]:.2f}')\n",
    "    print(f'Desvio Padrão: {desvio_padrao_por_classe[class_label]:.2f}')\n",
    "    print()"
   ]
  },
  {
   "cell_type": "code",
   "execution_count": null,
   "metadata": {},
   "outputs": [],
   "source": [
    "# Estimativas pontuais\n",
    "mean_alcohol = np.mean(dados['alcohol'])\n",
    "proportion_class_1 = len(dados[dados['class'] == 1]) / len(dados)"
   ]
  },
  {
   "cell_type": "code",
   "execution_count": null,
   "metadata": {},
   "outputs": [],
   "source": [
    "# Intervalos de confiança\n",
    "confidence_interval_mean = stats.t.interval(0.95, len(dados)-1, loc=mean_alcohol, scale=stats.sem(dados['alcohol']))\n",
    "confidence_interval_proportion = stats.proportion_confint(len(dados[dados['class'] == 1]), len(dados))"
   ]
  },
  {
   "cell_type": "code",
   "execution_count": null,
   "metadata": {},
   "outputs": [],
   "source": [
    "# Interpretação dos resultados\n",
    "print('Intervalo de confiança para a média de alcohol:', confidence_interval_mean)\n",
    "print('Intervalo de confiança para a proporção da classe 1:', confidence_interval_proportion)"
   ]
  },
  {
   "cell_type": "code",
   "execution_count": null,
   "metadata": {},
   "outputs": [],
   "source": [
    "# Resumo estatístico\n",
    "print(dados.describe())"
   ]
  },
  {
   "attachments": {},
   "cell_type": "markdown",
   "metadata": {},
   "source": [
    "### 5. **Modelagem dos dados**"
   ]
  },
  {
   "attachments": {},
   "cell_type": "markdown",
   "metadata": {},
   "source": [
    "##### Vamos considerar a tarefa de prever a classe do vinho com base em seus atributos. \n",
    "##### Vamos utilizar a regressão linear como modelo para essa análise. "
   ]
  },
  {
   "cell_type": "code",
   "execution_count": null,
   "metadata": {},
   "outputs": [],
   "source": [
    "# Selecionar os atributos para a modelagem\n",
    "atributos = ['alcohol', 'malic_acid', 'ash', 'alcalinity_of_ash', 'magnesium', 'total_phenols', \n",
    "                 'flavanoids', 'nonflavanoid_phenols', 'proanthocyanins', 'color_intensity', 'hue', 'od280/od315_of_diluted_wines', 'proline']"
   ]
  },
  {
   "cell_type": "code",
   "execution_count": null,
   "metadata": {},
   "outputs": [],
   "source": [
    "\n",
    "# Adicionar a coluna de interceptação\n",
    "dados['intercept'] = 1"
   ]
  },
  {
   "cell_type": "code",
   "execution_count": null,
   "metadata": {},
   "outputs": [],
   "source": [
    "# Definir as variáveis dependentes e independentes\n",
    "X = dados[atributos]\n",
    "y = dados['class']"
   ]
  },
  {
   "cell_type": "code",
   "execution_count": null,
   "metadata": {},
   "outputs": [],
   "source": [
    "# Ajustar o modelo de regressão linear usando statsmodels\n",
    "modelo = sm.OLS(y, X)\n",
    "resultado = modelo.fit()"
   ]
  },
  {
   "cell_type": "code",
   "execution_count": null,
   "metadata": {},
   "outputs": [],
   "source": [
    "# Imprimir um resumo dos resultados\n",
    "print(resultado.summary())"
   ]
  },
  {
   "cell_type": "code",
   "execution_count": null,
   "metadata": {},
   "outputs": [],
   "source": [
    "# Calcular o R2\n",
    "r2 = resultado.rsquared\n",
    "print(\"R2:\", r2)"
   ]
  },
  {
   "cell_type": "code",
   "execution_count": null,
   "metadata": {},
   "outputs": [],
   "source": [
    "# Análise de resíduos\n",
    "residuos = resultado.resid\n",
    "plt.figure(figsize=(8, 6))\n",
    "sns.scatterplot(x=resultado.fittedvalues, y=residuos)\n",
    "plt.xlabel('Valores ajustados')\n",
    "plt.ylabel('Resíduos')\n",
    "plt.title('Análise de Resíduos')\n",
    "plt.show()"
   ]
  },
  {
   "attachments": {},
   "cell_type": "markdown",
   "metadata": {},
   "source": [
    "##### Vamos adicionar uma análise utilizando o algoritmo de classificação Random Forest para prever a classe do vinho com base nos atributos."
   ]
  },
  {
   "cell_type": "code",
   "execution_count": null,
   "metadata": {},
   "outputs": [],
   "source": [
    "# Adição Unidade 3\n",
    "# Separar os atributos e a classe\n",
    "X = dados.drop('class', axis=1)\n",
    "y = dados['class']"
   ]
  },
  {
   "cell_type": "code",
   "execution_count": null,
   "metadata": {},
   "outputs": [],
   "source": [
    "# Dividir os dados em treino e teste\n",
    "X_train, X_test, y_train, y_test = train_test_split(X, y, test_size=0.2, random_state=1)"
   ]
  },
  {
   "cell_type": "code",
   "execution_count": null,
   "metadata": {},
   "outputs": [],
   "source": [
    "# Criar o modelo de Random Forest\n",
    "rf = RandomForestClassifier(random_state=1)"
   ]
  },
  {
   "cell_type": "code",
   "execution_count": null,
   "metadata": {},
   "outputs": [],
   "source": [
    "# Treinar o modelo\n",
    "rf.fit(X_train, y_train)"
   ]
  },
  {
   "cell_type": "code",
   "execution_count": null,
   "metadata": {},
   "outputs": [],
   "source": [
    "# Fazer previsões no conjunto de teste\n",
    "y_pred = rf.predict(X_test)"
   ]
  },
  {
   "cell_type": "code",
   "execution_count": null,
   "metadata": {},
   "outputs": [],
   "source": [
    "# Avaliar o modelo\n",
    "print(classification_report(y_test, y_pred))"
   ]
  },
  {
   "attachments": {},
   "cell_type": "markdown",
   "metadata": {},
   "source": [
    "### 6.  **Conclusão**"
   ]
  },
  {
   "attachments": {},
   "cell_type": "markdown",
   "metadata": {},
   "source": [
    "#### Resultados Obtidos:\n",
    "* Em síntese, pode-se hipotetizar que existe uma relação entre os atributos químicos (como teor alcoólico, concentração de compostos fenólicos, acidez, intensidade de cor, entre outros) e a variedade do vinho. Essa relação pode ser utilizada para classificar corretamente as amostras de vinho em suas respectivas variedades.\n",
    "* As diferentes variedades de vinho (classes 1, 2 e 3) podem apresentar diferenças distintas em termos de suas características químicas. Por exemplo, é possível que uma determinada variedade de vinho tenha um teor alcoólico mais elevado em comparação com as outras variedades, enquanto outra variedade possa ter uma maior concentração de compostos fenólicos. Essas diferenças nas características químicas podem ser exploradas para a classificação das amostras de vinho.\n",
    "* A alcalinidade das cinzas pode ser um atributo relevante para a classificação das amostras de vinho. Pode-se hipotetizar que determinadas variedades de vinho possuam cinzas com maior alcalinidade, enquanto outras variedades apresentem níveis mais baixos de alcalinidade das cinzas.\n",
    "* É possível que exista uma correlação entre o teor alcoólico do vinho e a concentração de compostos fenólicos. Por exemplo, amostras de vinho com teor alcoólico mais elevado podem apresentar uma concentração de compostos fenólicos também maior. Essa correlação pode ser investigada para obter informações adicionais sobre as características químicas das amostras de vinho."
   ]
  },
  {
   "attachments": {},
   "cell_type": "markdown",
   "metadata": {},
   "source": [
    "#### Possíveis limitações\n",
    "* Não foi encontrado nenhuma incongruência no conjunto de dados.\n",
    "* Não aprensentam tantos dados sensoriais, em sua maioria trata apenas de dados quimicos."
   ]
  },
  {
   "attachments": {},
   "cell_type": "markdown",
   "metadata": {},
   "source": [
    "#### Sugestões gerais\n",
    "* Pesquisas em relação ao tratamento do teor alcoólico em detrimento a acidez do produto, para possibilitar bebidas com predominância alcalina mesmo que alcoólica."
   ]
  },
  {
   "attachments": {},
   "cell_type": "markdown",
   "metadata": {},
   "source": [
    "#### Sugestões para os dados\n",
    "* O caso pode ser alimentar o conjunto de dados com conteúdos e colunas que tenham foco no sensorial em relação ao temporal, como por exemplo, quanto maior o tempo, a acidez muda, ou então o gosto em si e a recepção pelas papilas gustativas a partir de pesquisas."
   ]
  },
  {
   "attachments": {},
   "cell_type": "markdown",
   "metadata": {},
   "source": [
    "## Etapa 2 - Cluster"
   ]
  },
  {
   "cell_type": "code",
   "execution_count": null,
   "metadata": {},
   "outputs": [],
   "source": [
    "# Importando as bibliotecas necessárias\n",
    "import pandas as pd\n",
    "import seaborn as sns\n",
    "import matplotlib.pyplot as plt\n",
    "import statsmodels.api as sm\n",
    "import numpy as np\n",
    "from sklearn.ensemble import RandomForestClassifier\n",
    "from sklearn.svm import SVC\n",
    "from sklearn.linear_model import SGDClassifier\n",
    "from sklearn.metrics import confusion_matrix, classification_report, silhouette_score\n",
    "from sklearn.preprocessing import StandardScaler, LabelEncoder\n",
    "from sklearn.model_selection import train_test_split, GridSearchCV, cross_val_score\n",
    "from sklearn.cluster import KMeans\n",
    "from sklearn.decomposition import PCA"
   ]
  },
  {
   "cell_type": "code",
   "execution_count": null,
   "metadata": {},
   "outputs": [],
   "source": [
    "# Carregar o conjunto de dados Wine do UCI Machine Learning Repository\n",
    "url = \"https://archive.ics.uci.edu/ml/machine-learning-databases/wine/wine.data\"\n",
    "colunas = ['class', 'alcohol', 'malic_acid', 'ash', 'alcalinity_of_ash', 'magnesium', 'total_phenols', \n",
    "                 'flavanoids', 'nonflavanoid_phenols', 'proanthocyanins', 'color_intensity', 'hue', 'od280/od315_of_diluted_wines', 'proline']\n",
    "dados = pd.read_csv(url, header=None, names=colunas)\n",
    "\n",
    "# Exibir as primeiras linhas do conjunto de dados\n",
    "dados.head()"
   ]
  },
  {
   "cell_type": "code",
   "execution_count": null,
   "metadata": {},
   "outputs": [],
   "source": [
    "# Padronizar os dados\n",
    "scaler = StandardScaler()\n",
    "dados_padronizados = scaler.fit_transform(dados)\n",
    "\n",
    "# Determinar o número de clusters\n",
    "k = 3\n",
    "\n",
    "# Realizar o agrupamento com o algoritmo K-means\n",
    "kmeans = KMeans(n_clusters=k, random_state=1)\n",
    "clusters = kmeans.fit_predict(dados_padronizados)"
   ]
  },
  {
   "cell_type": "code",
   "execution_count": null,
   "metadata": {},
   "outputs": [],
   "source": [
    "# Adicionar a coluna de cluster aos dados\n",
    "dados['cluster'] = clusters"
   ]
  },
  {
   "cell_type": "code",
   "execution_count": null,
   "metadata": {},
   "outputs": [],
   "source": [
    "# Adição Unidade 3\n",
    "# Calcular o índice de silhueta para o agrupamento\n",
    "silhouette_avg = silhouette_score(dados_padronizados, clusters)\n",
    "print(f'Índice de Silhueta Médio: {silhouette_avg:.2f}')"
   ]
  },
  {
   "cell_type": "code",
   "execution_count": null,
   "metadata": {},
   "outputs": [],
   "source": [
    "# Reduzir a dimensionalidade dos dados para visualização\n",
    "pca = PCA(n_components=2)\n",
    "dados_reduzidos = pca.fit_transform(dados_padronizados)"
   ]
  },
  {
   "cell_type": "code",
   "execution_count": null,
   "metadata": {},
   "outputs": [],
   "source": [
    "# Plotar os clusters\n",
    "plt.figure(figsize=(8, 6))\n",
    "for cluster in range(k):\n",
    "    cluster_data = dados_reduzidos[dados['cluster'] == cluster]\n",
    "    plt.scatter(cluster_data[:, 0], cluster_data[:, 1], label=f'Cluster {cluster}')\n",
    "plt.xlabel('Componente Principal 1')\n",
    "plt.ylabel('Componente Principal 2')\n",
    "plt.title('Análise de Cluster')\n",
    "plt.legend()\n",
    "plt.show()"
   ]
  },
  {
   "cell_type": "code",
   "execution_count": null,
   "metadata": {},
   "outputs": [],
   "source": [
    "# Calcular as médias dos atributos por cluster\n",
    "means = dados.groupby('cluster').mean()\n",
    "\n",
    "print(\"\\nMédias dos grupos:\")\n",
    "print(means)"
   ]
  },
  {
   "cell_type": "code",
   "execution_count": null,
   "metadata": {},
   "outputs": [],
   "source": [
    "# Plotar as médias dos atributos por cluster\n",
    "plt.figure(figsize=(10, 6))\n",
    "means_transposed = means.transpose()\n",
    "means_transposed.plot(kind='bar')\n",
    "plt.xlabel('Atributo')\n",
    "plt.ylabel('Média')\n",
    "plt.title('Médias dos Atributos por Cluster')\n",
    "plt.legend(title='Cluster')\n",
    "plt.xticks(rotation=45)\n",
    "plt.show()"
   ]
  },
  {
   "cell_type": "code",
   "execution_count": null,
   "metadata": {},
   "outputs": [],
   "source": [
    "# Plotar os boxplots das médias dos atributos por cluster\n",
    "plt.figure(figsize=(10, 6))\n",
    "dados_boxplot = dados.copy()\n",
    "dados_boxplot['cluster'] = dados_boxplot['cluster'].astype('category')\n",
    "dados_boxplot = pd.melt(dados_boxplot, id_vars='cluster', value_vars=colunas[:-1], var_name='Atributo', value_name='Valor')\n",
    "plt.xticks(rotation=45)\n",
    "plt.title('Boxplots das Médias dos Atributos por Cluster')\n",
    "plt.xlabel('Atributo')\n",
    "plt.ylabel('Valor')\n",
    "plt.ylim(dados[colunas[:-1]].min().min() - 1, dados[colunas[:-1]].max().max() + 1)\n",
    "plt.grid(axis='y')\n",
    "plt.boxplot([dados_boxplot[dados_boxplot['cluster'] == c]['Valor'] for c in range(k)], labels=[f'Cluster {c}' for c in range(k)])\n",
    "plt.show()"
   ]
  },
  {
   "cell_type": "code",
   "execution_count": null,
   "metadata": {},
   "outputs": [],
   "source": [
    "# Contar o número de amostras em cada cluster\n",
    "cluster_counts = dados['cluster'].value_counts()"
   ]
  },
  {
   "cell_type": "code",
   "execution_count": null,
   "metadata": {},
   "outputs": [],
   "source": [
    "# Plotar o número de amostras por cluster\n",
    "plt.figure(figsize=(8, 6))\n",
    "plt.bar(cluster_counts.index, cluster_counts.values)\n",
    "plt.xlabel('Cluster')\n",
    "plt.ylabel('Número de Amostras')\n",
    "plt.title('Número de Amostras por Cluster')\n",
    "plt.xticks(cluster_counts.index)\n",
    "plt.show()"
   ]
  }
 ],
 "metadata": {
  "kernelspec": {
   "display_name": "Python 3",
   "language": "python",
   "name": "python3"
  },
  "language_info": {
   "codemirror_mode": {
    "name": "ipython",
    "version": 3
   },
   "file_extension": ".py",
   "mimetype": "text/x-python",
   "name": "python",
   "nbconvert_exporter": "python",
   "pygments_lexer": "ipython3",
   "version": "3.11.4"
  },
  "orig_nbformat": 4
 },
 "nbformat": 4,
 "nbformat_minor": 2
}
